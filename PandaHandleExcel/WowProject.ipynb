{
 "cells": [
  {
   "cell_type": "code",
   "execution_count": null,
   "metadata": {},
   "outputs": [],
   "source": [
    "import os\n",
    "import pandas as pd\n",
    "import matplotlib.pyplot as plt"
   ]
  },
  {
   "cell_type": "code",
   "execution_count": null,
   "metadata": {},
   "outputs": [],
   "source": [
    "def ReadExcelSheet(excelName, sheetName, keys):\n",
    "    data = []\n",
    "    if (\"\" == excelName):\n",
    "        print(\"excelName is null\")\n",
    "        return data\n",
    "    df = pd.read_excel(excelName, sheet_name=sheetName)\n",
    "    for idx in df.index.values:\n",
    "        tmpData = df.loc[idx,keys].to_dict()\n",
    "        data.append(tmpData)\n",
    "    return data    "
   ]
  },
  {
   "cell_type": "code",
   "execution_count": null,
   "metadata": {},
   "outputs": [],
   "source": [
    "keys = [\"时间\", \"单号\", \"状态\", \"迭代\"]\n",
    "data = ReadExcelSheet(\"故障ITRAN.xlsx\", \"详细信息\",keys)\n",
    "data"
   ]
  },
  {
   "cell_type": "code",
   "execution_count": null,
   "metadata": {},
   "outputs": [],
   "source": [
    "def WhiteExcelSheet(data, outputPath, sheetName):\n",
    "    writer = pd.ExcelWriter(outputPath)\n",
    "    data.to_excel(writer, sheet_name=sheetName, index=None)\n",
    "    writer.save()\n",
    "    print(0)\n",
    "    "
   ]
  },
  {
   "cell_type": "code",
   "execution_count": null,
   "metadata": {},
   "outputs": [],
   "source": [
    "info = [{'时间': pd.Timestamp('2022-02-23 16:22:12'),\n",
    "  '单号': 153455,\n",
    "  '状态': '待审核',\n",
    "  '迭代': 'S124-1'},\n",
    " {'时间': pd.Timestamp('2022-02-23 16:12:12'),\n",
    "  '单号': 123473,\n",
    "  '状态': '待审核',\n",
    "  '迭代': ''}]\n",
    "\n",
    "frame = pd.DataFrame(info, columns=keys);\n",
    "WhiteExcelSheet(frame, \"故障2.xlsx\",\"详细信息\")"
   ]
  },
  {
   "cell_type": "code",
   "execution_count": null,
   "metadata": {},
   "outputs": [],
   "source": []
  }
 ],
 "metadata": {
  "kernelspec": {
   "display_name": "Python 3",
   "language": "python",
   "name": "python3"
  },
  "language_info": {
   "codemirror_mode": {
    "name": "ipython",
    "version": 3
   },
   "file_extension": ".py",
   "mimetype": "text/x-python",
   "name": "python",
   "nbconvert_exporter": "python",
   "pygments_lexer": "ipython3",
   "version": "3.7.3"
  }
 },
 "nbformat": 4,
 "nbformat_minor": 2
}
